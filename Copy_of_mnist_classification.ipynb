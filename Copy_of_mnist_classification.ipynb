{
  "nbformat": 4,
  "nbformat_minor": 0,
  "metadata": {
    "colab": {
      "provenance": []
    },
    "kernelspec": {
      "name": "python3",
      "display_name": "Python 3"
    },
    "language_info": {
      "name": "python"
    },
    "accelerator": "TPU"
  },
  "cells": [
    {
      "cell_type": "code",
      "execution_count": null,
      "metadata": {
        "id": "pELLUNVzJWB6",
        "outputId": "2bd72883-3e84-45f8-b89a-34feef076d23",
        "colab": {
          "base_uri": "https://localhost:8080/",
          "height": 363
        }
      },
      "outputs": [
        {
          "output_type": "error",
          "ename": "ImportError",
          "evalue": "cannot import name 'PRelu' from 'tensorflow.keras.layers' (/usr/local/lib/python3.10/dist-packages/keras/api/_v2/keras/layers/__init__.py)",
          "traceback": [
            "\u001b[0;31m---------------------------------------------------------------------------\u001b[0m",
            "\u001b[0;31mImportError\u001b[0m                               Traceback (most recent call last)",
            "\u001b[0;32m<ipython-input-8-d53497c81948>\u001b[0m in \u001b[0;36m<cell line: 4>\u001b[0;34m()\u001b[0m\n\u001b[1;32m      2\u001b[0m \u001b[0;32mfrom\u001b[0m \u001b[0mtensorflow\u001b[0m \u001b[0;32mimport\u001b[0m \u001b[0mkeras\u001b[0m\u001b[0;34m\u001b[0m\u001b[0;34m\u001b[0m\u001b[0m\n\u001b[1;32m      3\u001b[0m \u001b[0;32mfrom\u001b[0m \u001b[0mtensorflow\u001b[0m\u001b[0;34m.\u001b[0m\u001b[0mkeras\u001b[0m \u001b[0;32mimport\u001b[0m \u001b[0mSequential\u001b[0m\u001b[0;34m\u001b[0m\u001b[0;34m\u001b[0m\u001b[0m\n\u001b[0;32m----> 4\u001b[0;31m \u001b[0;32mfrom\u001b[0m \u001b[0mtensorflow\u001b[0m\u001b[0;34m.\u001b[0m\u001b[0mkeras\u001b[0m\u001b[0;34m.\u001b[0m\u001b[0mlayers\u001b[0m \u001b[0;32mimport\u001b[0m \u001b[0mDense\u001b[0m\u001b[0;34m,\u001b[0m\u001b[0mFlatten\u001b[0m\u001b[0;34m,\u001b[0m\u001b[0mPRelu\u001b[0m\u001b[0;34m\u001b[0m\u001b[0;34m\u001b[0m\u001b[0m\n\u001b[0m",
            "\u001b[0;31mImportError\u001b[0m: cannot import name 'PRelu' from 'tensorflow.keras.layers' (/usr/local/lib/python3.10/dist-packages/keras/api/_v2/keras/layers/__init__.py)",
            "",
            "\u001b[0;31m---------------------------------------------------------------------------\u001b[0;32m\nNOTE: If your import is failing due to a missing package, you can\nmanually install dependencies using either !pip or !apt.\n\nTo view examples of installing some common dependencies, click the\n\"Open Examples\" button below.\n\u001b[0;31m---------------------------------------------------------------------------\u001b[0m\n"
          ],
          "errorDetails": {
            "actions": [
              {
                "action": "open_url",
                "actionText": "Open Examples",
                "url": "/notebooks/snippets/importing_libraries.ipynb"
              }
            ]
          }
        }
      ],
      "source": [
        "import tensorflow\n",
        "from tensorflow import keras\n",
        "from tensorflow.keras import Sequential\n",
        "from tensorflow.keras.layers import Dense,Flatten,PRelu"
      ]
    },
    {
      "cell_type": "code",
      "source": [
        "(X_train,y_train),(X_test,y_test) = keras.datasets.mnist.load_data()"
      ],
      "metadata": {
        "id": "KRTH93VyMYF7",
        "outputId": "69b9161b-fcc5-4551-936a-74792fae72e4",
        "colab": {
          "base_uri": "https://localhost:8080/"
        }
      },
      "execution_count": null,
      "outputs": [
        {
          "output_type": "stream",
          "name": "stdout",
          "text": [
            "Downloading data from https://storage.googleapis.com/tensorflow/tf-keras-datasets/mnist.npz\n",
            "11490434/11490434 [==============================] - 0s 0us/step\n"
          ]
        }
      ]
    },
    {
      "cell_type": "code",
      "source": [
        "X_test.shape"
      ],
      "metadata": {
        "colab": {
          "base_uri": "https://localhost:8080/"
        },
        "id": "m0hHUKoNMpsZ",
        "outputId": "83bd9b7a-e8ab-44b1-9fb1-67a2e837975f"
      },
      "execution_count": null,
      "outputs": [
        {
          "output_type": "execute_result",
          "data": {
            "text/plain": [
              "(10000, 28, 28)"
            ]
          },
          "metadata": {},
          "execution_count": 3
        }
      ]
    },
    {
      "cell_type": "code",
      "source": [
        "y_train"
      ],
      "metadata": {
        "colab": {
          "base_uri": "https://localhost:8080/"
        },
        "id": "skzwnglnMzl6",
        "outputId": "ed1b62cf-97e9-44dd-fa63-2643180954a3"
      },
      "execution_count": null,
      "outputs": [
        {
          "output_type": "execute_result",
          "data": {
            "text/plain": [
              "array([5, 0, 4, ..., 5, 6, 8], dtype=uint8)"
            ]
          },
          "metadata": {},
          "execution_count": 13
        }
      ]
    },
    {
      "cell_type": "code",
      "source": [
        "import matplotlib.pyplot as plt\n",
        "plt.imshow(X_train[2])"
      ],
      "metadata": {
        "colab": {
          "base_uri": "https://localhost:8080/",
          "height": 448
        },
        "id": "jr2MuKsKRH5G",
        "outputId": "4ed9ec6a-60ff-49be-d790-057156f37ed8"
      },
      "execution_count": null,
      "outputs": [
        {
          "output_type": "execute_result",
          "data": {
            "text/plain": [
              "<matplotlib.image.AxesImage at 0x7b107de71990>"
            ]
          },
          "metadata": {},
          "execution_count": 4
        },
        {
          "output_type": "display_data",
          "data": {
            "text/plain": [
              "<Figure size 640x480 with 1 Axes>"
            ],
            "image/png": "[encoded data removed]"
          },
          "metadata": {}
        }
      ]
    },
    {
      "cell_type": "code",
      "source": [
        "X_train = X_train/255\n",
        "X_test = X_test/255"
      ],
      "metadata": {
        "id": "dJmO2WLlRRT1"
      },
      "execution_count": null,
      "outputs": []
    },
    {
      "cell_type": "code",
      "source": [
        "X_train[0]"
      ],
      "metadata": {
        "colab": {
          "base_uri": "https://localhost:8080/"
        },
        "id": "i1WA9FioRdtB",
        "outputId": "56992ec2-dc05-4ded-c22a-344ac058af10"
      },
      "execution_count": null,
      "outputs": [
        {
          "output_type": "execute_result",
          "data": {
            "text/plain": [
              "array([[0.        , 0.        , 0.        , 0.        , 0.        ,\n",
              "        0.        , 0.        , 0.        , 0.        , 0.        ,\n",
              "        0.        , 0.        , 0.        , 0.        , 0.        ,\n",
              "        0.        , 0.        , 0.        , 0.        , 0.        ,\n",
              "        0.        , 0.        , 0.        , 0.        , 0.        ,\n",
              "        0.        , 0.        , 0.        ],\n",
              "       [0.        , 0.        , 0.        , 0.        , 0.        ,\n",
              "        0.        , 0.        , 0.        , 0.        , 0.        ,\n",
              "        0.        , 0.        , 0.        , 0.        , 0.        ,\n",
              "        0.        , 0.        , 0.        , 0.        , 0.        ,\n",
              "        0.        , 0.        , 0.        , 0.        , 0.        ,\n",
              "        0.        , 0.        , 0.        ],\n",
              "       [0.        , 0.        , 0.        , 0.        , 0.        ,\n",
              "        0.        , 0.        , 0.        , 0.        , 0.        ,\n",
              "        0.        , 0.        , 0.        , 0.        , 0.        ,\n",
              "        0.        , 0.        , 0.        , 0.        , 0.        ,\n",
              "        0.        , 0.        , 0.        , 0.        , 0.        ,\n",
              "        0.        , 0.        , 0.        ],\n",
              "       [0.        , 0.        , 0.        , 0.        , 0.        ,\n",
              "        0.        , 0.        , 0.        , 0.        , 0.        ,\n",
              "        0.        , 0.        , 0.        , 0.        , 0.        ,\n",
              "        0.        , 0.        , 0.        , 0.        , 0.        ,\n",
              "        0.        , 0.        , 0.        , 0.        , 0.        ,\n",
              "        0.        , 0.        , 0.        ],\n",
              "       [0.        , 0.        , 0.        , 0.        , 0.        ,\n",
              "        0.        , 0.        , 0.        , 0.        , 0.        ,\n",
              "        0.        , 0.        , 0.        , 0.        , 0.        ,\n",
              "        0.        , 0.        , 0.        , 0.        , 0.        ,\n",
              "        0.        , 0.        , 0.        , 0.        , 0.        ,\n",
              "        0.        , 0.        , 0.        ],\n",
              "       [0.        , 0.        , 0.        , 0.        , 0.        ,\n",
              "        0.        , 0.        , 0.        , 0.        , 0.        ,\n",
              "        0.        , 0.        , 0.01176471, 0.07058824, 0.07058824,\n",
              "        0.07058824, 0.49411765, 0.53333333, 0.68627451, 0.10196078,\n",
              "        0.65098039, 1.        , 0.96862745, 0.49803922, 0.        ,\n",
              "        0.        , 0.        , 0.        ],\n",
              "       [0.        , 0.        , 0.        , 0.        , 0.        ,\n",
              "        0.        , 0.        , 0.        , 0.11764706, 0.14117647,\n",
              "        0.36862745, 0.60392157, 0.66666667, 0.99215686, 0.99215686,\n",
              "        0.99215686, 0.99215686, 0.99215686, 0.88235294, 0.6745098 ,\n",
              "        0.99215686, 0.94901961, 0.76470588, 0.25098039, 0.        ,\n",
              "        0.        , 0.        , 0.        ],\n",
              "       [0.        , 0.        , 0.        , 0.        , 0.        ,\n",
              "        0.        , 0.        , 0.19215686, 0.93333333, 0.99215686,\n",
              "        0.99215686, 0.99215686, 0.99215686, 0.99215686, 0.99215686,\n",
              "        0.99215686, 0.99215686, 0.98431373, 0.36470588, 0.32156863,\n",
              "        0.32156863, 0.21960784, 0.15294118, 0.        , 0.        ,\n",
              "        0.        , 0.        , 0.        ],\n",
              "       [0.        , 0.        , 0.        , 0.        , 0.        ,\n",
              "        0.        , 0.        , 0.07058824, 0.85882353, 0.99215686,\n",
              "        0.99215686, 0.99215686, 0.99215686, 0.99215686, 0.77647059,\n",
              "        0.71372549, 0.96862745, 0.94509804, 0.        , 0.        ,\n",
              "        0.        , 0.        , 0.        , 0.        , 0.        ,\n",
              "        0.        , 0.        , 0.        ],\n",
              "       [0.        , 0.        , 0.        , 0.        , 0.        ,\n",
              "        0.        , 0.        , 0.        , 0.31372549, 0.61176471,\n",
              "        0.41960784, 0.99215686, 0.99215686, 0.80392157, 0.04313725,\n",
              "        0.        , 0.16862745, 0.60392157, 0.        , 0.        ,\n",
              "        0.        , 0.        , 0.        , 0.        , 0.        ,\n",
              "        0.        , 0.        , 0.        ],\n",
              "       [0.        , 0.        , 0.        , 0.        , 0.        ,\n",
              "        0.        , 0.        , 0.        , 0.        , 0.05490196,\n",
              "        0.00392157, 0.60392157, 0.99215686, 0.35294118, 0.        ,\n",
              "        0.        , 0.        , 0.        , 0.        , 0.        ,\n",
              "        0.        , 0.        , 0.        , 0.        , 0.        ,\n",
              "        0.        , 0.        , 0.        ],\n",
              "       [0.        , 0.        , 0.        , 0.        , 0.        ,\n",
              "        0.        , 0.        , 0.        , 0.        , 0.        ,\n",
              "        0.        , 0.54509804, 0.99215686, 0.74509804, 0.00784314,\n",
              "        0.        , 0.        , 0.        , 0.        , 0.        ,\n",
              "        0.        , 0.        , 0.        , 0.        , 0.        ,\n",
              "        0.        , 0.        , 0.        ],\n",
              "       [0.        , 0.        , 0.        , 0.        , 0.        ,\n",
              "        0.        , 0.        , 0.        , 0.        , 0.        ,\n",
              "        0.        , 0.04313725, 0.74509804, 0.99215686, 0.2745098 ,\n",
              "        0.        , 0.        , 0.        , 0.        , 0.        ,\n",
              "        0.        , 0.        , 0.        , 0.        , 0.        ,\n",
              "        0.        , 0.        , 0.        ],\n",
              "       [0.        , 0.        , 0.        , 0.        , 0.        ,\n",
              "        0.        , 0.        , 0.        , 0.        , 0.        ,\n",
              "        0.        , 0.        , 0.1372549 , 0.94509804, 0.88235294,\n",
              "        0.62745098, 0.42352941, 0.00392157, 0.        , 0.        ,\n",
              "        0.        , 0.        , 0.        , 0.        , 0.        ,\n",
              "        0.        , 0.        , 0.        ],\n",
              "       [0.        , 0.        , 0.        , 0.        , 0.        ,\n",
              "        0.        , 0.        , 0.        , 0.        , 0.        ,\n",
              "        0.        , 0.        , 0.        , 0.31764706, 0.94117647,\n",
              "        0.99215686, 0.99215686, 0.46666667, 0.09803922, 0.        ,\n",
              "        0.        , 0.        , 0.        , 0.        , 0.        ,\n",
              "        0.        , 0.        , 0.        ],\n",
              "       [0.        , 0.        , 0.        , 0.        , 0.        ,\n",
              "        0.        , 0.        , 0.        , 0.        , 0.        ,\n",
              "        0.        , 0.        , 0.        , 0.        , 0.17647059,\n",
              "        0.72941176, 0.99215686, 0.99215686, 0.58823529, 0.10588235,\n",
              "        0.        , 0.        , 0.        , 0.        , 0.        ,\n",
              "        0.        , 0.        , 0.        ],\n",
              "       [0.        , 0.        , 0.        , 0.        , 0.        ,\n",
              "        0.        , 0.        , 0.        , 0.        , 0.        ,\n",
              "        0.        , 0.        , 0.        , 0.        , 0.        ,\n",
              "        0.0627451 , 0.36470588, 0.98823529, 0.99215686, 0.73333333,\n",
              "        0.        , 0.        , 0.        , 0.        , 0.        ,\n",
              "        0.        , 0.        , 0.        ],\n",
              "       [0.        , 0.        , 0.        , 0.        , 0.        ,\n",
              "        0.        , 0.        , 0.        , 0.        , 0.        ,\n",
              "        0.        , 0.        , 0.        , 0.        , 0.        ,\n",
              "        0.        , 0.        , 0.97647059, 0.99215686, 0.97647059,\n",
              "        0.25098039, 0.        , 0.        , 0.        , 0.        ,\n",
              "        0.        , 0.        , 0.        ],\n",
              "       [0.        , 0.        , 0.        , 0.        , 0.        ,\n",
              "        0.        , 0.        , 0.        , 0.        , 0.        ,\n",
              "        0.        , 0.        , 0.        , 0.        , 0.18039216,\n",
              "        0.50980392, 0.71764706, 0.99215686, 0.99215686, 0.81176471,\n",
              "        0.00784314, 0.        , 0.        , 0.        , 0.        ,\n",
              "        0.        , 0.        , 0.        ],\n",
              "       [0.        , 0.        , 0.        , 0.        , 0.        ,\n",
              "        0.        , 0.        , 0.        , 0.        , 0.        ,\n",
              "        0.        , 0.        , 0.15294118, 0.58039216, 0.89803922,\n",
              "        0.99215686, 0.99215686, 0.99215686, 0.98039216, 0.71372549,\n",
              "        0.        , 0.        , 0.        , 0.        , 0.        ,\n",
              "        0.        , 0.        , 0.        ],\n",
              "       [0.        , 0.        , 0.        , 0.        , 0.        ,\n",
              "        0.        , 0.        , 0.        , 0.        , 0.        ,\n",
              "        0.09411765, 0.44705882, 0.86666667, 0.99215686, 0.99215686,\n",
              "        0.99215686, 0.99215686, 0.78823529, 0.30588235, 0.        ,\n",
              "        0.        , 0.        , 0.        , 0.        , 0.        ,\n",
              "        0.        , 0.        , 0.        ],\n",
              "       [0.        , 0.        , 0.        , 0.        , 0.        ,\n",
              "        0.        , 0.        , 0.        , 0.09019608, 0.25882353,\n",
              "        0.83529412, 0.99215686, 0.99215686, 0.99215686, 0.99215686,\n",
              "        0.77647059, 0.31764706, 0.00784314, 0.        , 0.        ,\n",
              "        0.        , 0.        , 0.        , 0.        , 0.        ,\n",
              "        0.        , 0.        , 0.        ],\n",
              "       [0.        , 0.        , 0.        , 0.        , 0.        ,\n",
              "        0.        , 0.07058824, 0.67058824, 0.85882353, 0.99215686,\n",
              "        0.99215686, 0.99215686, 0.99215686, 0.76470588, 0.31372549,\n",
              "        0.03529412, 0.        , 0.        , 0.        , 0.        ,\n",
              "        0.        , 0.        , 0.        , 0.        , 0.        ,\n",
              "        0.        , 0.        , 0.        ],\n",
              "       [0.        , 0.        , 0.        , 0.        , 0.21568627,\n",
              "        0.6745098 , 0.88627451, 0.99215686, 0.99215686, 0.99215686,\n",
              "        0.99215686, 0.95686275, 0.52156863, 0.04313725, 0.        ,\n",
              "        0.        , 0.        , 0.        , 0.        , 0.        ,\n",
              "        0.        , 0.        , 0.        , 0.        , 0.        ,\n",
              "        0.        , 0.        , 0.        ],\n",
              "       [0.        , 0.        , 0.        , 0.        , 0.53333333,\n",
              "        0.99215686, 0.99215686, 0.99215686, 0.83137255, 0.52941176,\n",
              "        0.51764706, 0.0627451 , 0.        , 0.        , 0.        ,\n",
              "        0.        , 0.        , 0.        , 0.        , 0.        ,\n",
              "        0.        , 0.        , 0.        , 0.        , 0.        ,\n",
              "        0.        , 0.        , 0.        ],\n",
              "       [0.        , 0.        , 0.        , 0.        , 0.        ,\n",
              "        0.        , 0.        , 0.        , 0.        , 0.        ,\n",
              "        0.        , 0.        , 0.        , 0.        , 0.        ,\n",
              "        0.        , 0.        , 0.        , 0.        , 0.        ,\n",
              "        0.        , 0.        , 0.        , 0.        , 0.        ,\n",
              "        0.        , 0.        , 0.        ],\n",
              "       [0.        , 0.        , 0.        , 0.        , 0.        ,\n",
              "        0.        , 0.        , 0.        , 0.        , 0.        ,\n",
              "        0.        , 0.        , 0.        , 0.        , 0.        ,\n",
              "        0.        , 0.        , 0.        , 0.        , 0.        ,\n",
              "        0.        , 0.        , 0.        , 0.        , 0.        ,\n",
              "        0.        , 0.        , 0.        ],\n",
              "       [0.        , 0.        , 0.        , 0.        , 0.        ,\n",
              "        0.        , 0.        , 0.        , 0.        , 0.        ,\n",
              "        0.        , 0.        , 0.        , 0.        , 0.        ,\n",
              "        0.        , 0.        , 0.        , 0.        , 0.        ,\n",
              "        0.        , 0.        , 0.        , 0.        , 0.        ,\n",
              "        0.        , 0.        , 0.        ]])"
            ]
          },
          "metadata": {},
          "execution_count": 6
        }
      ]
    },
    {
      "cell_type": "code",
      "source": [
        "from tensorflow.keras.models import Sequential\n",
        "from tensorflow.keras.layers import Flatten, Dense, PReLU\n",
        "\n",
        "model = Sequential()\n",
        "\n",
        "model.add(Flatten(input_shape=(28,28)))\n",
        "model.add(Dense(128))\n",
        "model.add(PReLU())\n",
        "model.add(Dense(32))\n",
        "model.add(PReLU())\n",
        "model.add(Dense(10, activation='softmax'))"
      ],
      "metadata": {
        "id": "jr78UU88Rzm6"
      },
      "execution_count": null,
      "outputs": []
    },
    {
      "cell_type": "code",
      "source": [
        "model.summary()"
      ],
      "metadata": {
        "colab": {
          "base_uri": "https://localhost:8080/"
        },
        "id": "ECogPfG5SmNI",
        "outputId": "9302e22a-8392-46a9-d033-257859ba181b"
      },
      "execution_count": null,
      "outputs": [
        {
          "output_type": "stream",
          "name": "stdout",
          "text": [
            "Model: \"sequential_1\"\n",
            "_________________________________________________________________\n",
            " Layer (type)                Output Shape              Param #   \n",
            "=================================================================\n",
            " flatten_1 (Flatten)         (None, 784)               0         \n",
            "                                                                 \n",
            " dense_1 (Dense)             (None, 128)               100480    \n",
            "                                                                 \n",
            " p_re_lu (PReLU)             (None, 128)               128       \n",
            "                                                                 \n",
            " dense_2 (Dense)             (None, 32)                4128      \n",
            "                                                                 \n",
            " p_re_lu_1 (PReLU)           (None, 32)                32        \n",
            "                                                                 \n",
            " dense_3 (Dense)             (None, 10)                330       \n",
            "                                                                 \n",
            "=================================================================\n",
            "Total params: 105,098\n",
            "Trainable params: 105,098\n",
            "Non-trainable params: 0\n",
            "_________________________________________________________________\n"
          ]
        }
      ]
    },
    {
      "cell_type": "code",
      "source": [
        "model.compile(loss='sparse_categorical_crossentropy',optimizer='Adam',metrics=['accuracy'])"
      ],
      "metadata": {
        "id": "0yC51WgjSsLV"
      },
      "execution_count": null,
      "outputs": []
    },
    {
      "cell_type": "code",
      "source": [
        "history = model.fit(X_train,y_train,epochs=100,validation_split=0.2)"
      ],
      "metadata": {
        "colab": {
          "base_uri": "https://localhost:8080/"
        },
        "id": "L-fkwmIvWT8M",
        "outputId": "57a29cac-9cb1-4932-9999-7a6449ab1207"
      },
      "execution_count": null,
      "outputs": [
        {
          "output_type": "stream",
          "name": "stdout",
          "text": [
            "Epoch 1/100\n",
            "1500/1500 [==============================] - 9s 4ms/step - loss: 0.2773 - accuracy: 0.9183 - val_loss: 0.1515 - val_accuracy: 0.9517\n",
            "Epoch 2/100\n",
            "1500/1500 [==============================] - 7s 5ms/step - loss: 0.1138 - accuracy: 0.9659 - val_loss: 0.1077 - val_accuracy: 0.9669\n",
            "Epoch 3/100\n",
            "1500/1500 [==============================] - 6s 4ms/step - loss: 0.0778 - accuracy: 0.9771 - val_loss: 0.1181 - val_accuracy: 0.9647\n",
            "Epoch 4/100\n",
            "1500/1500 [==============================] - 7s 5ms/step - loss: 0.0595 - accuracy: 0.9819 - val_loss: 0.1001 - val_accuracy: 0.9729\n",
            "Epoch 5/100\n",
            "1500/1500 [==============================] - 6s 4ms/step - loss: 0.0457 - accuracy: 0.9857 - val_loss: 0.1056 - val_accuracy: 0.9700\n",
            "Epoch 6/100\n",
            "1500/1500 [==============================] - 7s 5ms/step - loss: 0.0381 - accuracy: 0.9872 - val_loss: 0.1072 - val_accuracy: 0.9711\n",
            "Epoch 7/100\n",
            "1500/1500 [==============================] - 6s 4ms/step - loss: 0.0296 - accuracy: 0.9905 - val_loss: 0.0909 - val_accuracy: 0.9768\n",
            "Epoch 8/100\n",
            "1500/1500 [==============================] - 7s 5ms/step - loss: 0.0263 - accuracy: 0.9913 - val_loss: 0.1016 - val_accuracy: 0.9753\n",
            "Epoch 9/100\n",
            "1500/1500 [==============================] - 6s 4ms/step - loss: 0.0231 - accuracy: 0.9928 - val_loss: 0.0968 - val_accuracy: 0.9773\n",
            "Epoch 10/100\n",
            "1500/1500 [==============================] - 7s 5ms/step - loss: 0.0206 - accuracy: 0.9933 - val_loss: 0.1168 - val_accuracy: 0.9724\n",
            "Epoch 11/100\n",
            "1500/1500 [==============================] - 6s 4ms/step - loss: 0.0180 - accuracy: 0.9941 - val_loss: 0.1318 - val_accuracy: 0.9700\n",
            "Epoch 12/100\n",
            "1500/1500 [==============================] - 7s 5ms/step - loss: 0.0188 - accuracy: 0.9938 - val_loss: 0.1088 - val_accuracy: 0.9770\n",
            "Epoch 13/100\n",
            "1500/1500 [==============================] - 6s 4ms/step - loss: 0.0147 - accuracy: 0.9949 - val_loss: 0.0990 - val_accuracy: 0.9784\n",
            "Epoch 14/100\n",
            "1500/1500 [==============================] - 7s 5ms/step - loss: 0.0146 - accuracy: 0.9956 - val_loss: 0.1287 - val_accuracy: 0.9731\n",
            "Epoch 15/100\n",
            "1500/1500 [==============================] - 7s 5ms/step - loss: 0.0148 - accuracy: 0.9948 - val_loss: 0.1140 - val_accuracy: 0.9790\n",
            "Epoch 16/100\n",
            "1500/1500 [==============================] - 6s 4ms/step - loss: 0.0130 - accuracy: 0.9957 - val_loss: 0.1298 - val_accuracy: 0.9760\n",
            "Epoch 17/100\n",
            "1500/1500 [==============================] - 7s 5ms/step - loss: 0.0151 - accuracy: 0.9952 - val_loss: 0.1260 - val_accuracy: 0.9766\n",
            "Epoch 18/100\n",
            "1500/1500 [==============================] - 6s 4ms/step - loss: 0.0099 - accuracy: 0.9968 - val_loss: 0.1173 - val_accuracy: 0.9770\n",
            "Epoch 19/100\n",
            "1500/1500 [==============================] - 7s 5ms/step - loss: 0.0117 - accuracy: 0.9966 - val_loss: 0.2097 - val_accuracy: 0.9638\n",
            "Epoch 20/100\n",
            "1500/1500 [==============================] - 6s 4ms/step - loss: 0.0143 - accuracy: 0.9952 - val_loss: 0.1502 - val_accuracy: 0.9732\n",
            "Epoch 21/100\n",
            "1500/1500 [==============================] - 7s 5ms/step - loss: 0.0087 - accuracy: 0.9970 - val_loss: 0.1293 - val_accuracy: 0.9770\n",
            "Epoch 22/100\n",
            "1500/1500 [==============================] - 6s 4ms/step - loss: 0.0110 - accuracy: 0.9967 - val_loss: 0.1425 - val_accuracy: 0.9758\n",
            "Epoch 23/100\n",
            "1500/1500 [==============================] - 7s 5ms/step - loss: 0.0099 - accuracy: 0.9970 - val_loss: 0.1722 - val_accuracy: 0.9734\n",
            "Epoch 24/100\n",
            "1500/1500 [==============================] - 6s 4ms/step - loss: 0.0117 - accuracy: 0.9963 - val_loss: 0.1482 - val_accuracy: 0.9761\n",
            "Epoch 25/100\n",
            "1500/1500 [==============================] - 7s 5ms/step - loss: 0.0092 - accuracy: 0.9971 - val_loss: 0.1399 - val_accuracy: 0.9776\n",
            "Epoch 26/100\n",
            "1500/1500 [==============================] - 6s 4ms/step - loss: 0.0101 - accuracy: 0.9968 - val_loss: 0.1454 - val_accuracy: 0.9778\n",
            "Epoch 27/100\n",
            "1500/1500 [==============================] - 7s 5ms/step - loss: 0.0092 - accuracy: 0.9970 - val_loss: 0.1583 - val_accuracy: 0.9747\n",
            "Epoch 28/100\n",
            "1500/1500 [==============================] - 6s 4ms/step - loss: 0.0060 - accuracy: 0.9982 - val_loss: 0.1323 - val_accuracy: 0.9800\n",
            "Epoch 29/100\n",
            "1500/1500 [==============================] - 7s 5ms/step - loss: 0.0120 - accuracy: 0.9962 - val_loss: 0.1510 - val_accuracy: 0.9784\n",
            "Epoch 30/100\n",
            "1500/1500 [==============================] - 6s 4ms/step - loss: 0.0075 - accuracy: 0.9976 - val_loss: 0.1642 - val_accuracy: 0.9751\n",
            "Epoch 31/100\n",
            "1500/1500 [==============================] - 7s 5ms/step - loss: 0.0085 - accuracy: 0.9974 - val_loss: 0.1574 - val_accuracy: 0.9775\n",
            "Epoch 32/100\n",
            "1500/1500 [==============================] - 6s 4ms/step - loss: 0.0114 - accuracy: 0.9969 - val_loss: 0.1487 - val_accuracy: 0.9777\n",
            "Epoch 33/100\n",
            "1500/1500 [==============================] - 7s 4ms/step - loss: 0.0097 - accuracy: 0.9975 - val_loss: 0.1706 - val_accuracy: 0.9747\n",
            "Epoch 34/100\n",
            "1500/1500 [==============================] - 6s 4ms/step - loss: 0.0083 - accuracy: 0.9974 - val_loss: 0.1728 - val_accuracy: 0.9751\n",
            "Epoch 35/100\n",
            "1500/1500 [==============================] - 7s 4ms/step - loss: 0.0086 - accuracy: 0.9973 - val_loss: 0.1847 - val_accuracy: 0.9743\n",
            "Epoch 36/100\n",
            "1500/1500 [==============================] - 6s 4ms/step - loss: 0.0072 - accuracy: 0.9977 - val_loss: 0.1706 - val_accuracy: 0.9770\n",
            "Epoch 37/100\n",
            "1500/1500 [==============================] - 7s 4ms/step - loss: 0.0076 - accuracy: 0.9979 - val_loss: 0.1710 - val_accuracy: 0.9765\n",
            "Epoch 38/100\n",
            "1500/1500 [==============================] - 6s 4ms/step - loss: 0.0081 - accuracy: 0.9980 - val_loss: 0.1944 - val_accuracy: 0.9741\n",
            "Epoch 39/100\n",
            "1500/1500 [==============================] - 7s 5ms/step - loss: 0.0079 - accuracy: 0.9975 - val_loss: 0.2040 - val_accuracy: 0.9747\n",
            "Epoch 40/100\n",
            "1500/1500 [==============================] - 5s 4ms/step - loss: 0.0095 - accuracy: 0.9972 - val_loss: 0.1824 - val_accuracy: 0.9758\n",
            "Epoch 41/100\n",
            "1500/1500 [==============================] - 7s 4ms/step - loss: 0.0068 - accuracy: 0.9980 - val_loss: 0.1678 - val_accuracy: 0.9787\n",
            "Epoch 42/100\n",
            "1500/1500 [==============================] - 6s 4ms/step - loss: 0.0069 - accuracy: 0.9978 - val_loss: 0.1867 - val_accuracy: 0.9772\n",
            "Epoch 43/100\n",
            "1500/1500 [==============================] - 7s 5ms/step - loss: 0.0087 - accuracy: 0.9974 - val_loss: 0.1846 - val_accuracy: 0.9766\n",
            "Epoch 44/100\n",
            "1500/1500 [==============================] - 6s 4ms/step - loss: 0.0067 - accuracy: 0.9980 - val_loss: 0.1942 - val_accuracy: 0.9762\n",
            "Epoch 45/100\n",
            "1500/1500 [==============================] - 7s 5ms/step - loss: 0.0076 - accuracy: 0.9979 - val_loss: 0.1573 - val_accuracy: 0.9791\n",
            "Epoch 46/100\n",
            "1500/1500 [==============================] - 6s 4ms/step - loss: 0.0087 - accuracy: 0.9977 - val_loss: 0.1772 - val_accuracy: 0.9778\n",
            "Epoch 47/100\n",
            "1500/1500 [==============================] - 7s 5ms/step - loss: 0.0050 - accuracy: 0.9985 - val_loss: 0.1680 - val_accuracy: 0.9783\n",
            "Epoch 48/100\n",
            "1500/1500 [==============================] - 6s 4ms/step - loss: 0.0053 - accuracy: 0.9984 - val_loss: 0.1806 - val_accuracy: 0.9768\n",
            "Epoch 49/100\n",
            "1500/1500 [==============================] - 7s 5ms/step - loss: 0.0087 - accuracy: 0.9978 - val_loss: 0.1677 - val_accuracy: 0.9776\n",
            "Epoch 50/100\n",
            "1500/1500 [==============================] - 6s 4ms/step - loss: 0.0080 - accuracy: 0.9979 - val_loss: 0.1651 - val_accuracy: 0.9793\n",
            "Epoch 51/100\n",
            "1500/1500 [==============================] - 7s 5ms/step - loss: 0.0057 - accuracy: 0.9983 - val_loss: 0.1977 - val_accuracy: 0.9757\n",
            "Epoch 52/100\n",
            "1500/1500 [==============================] - 6s 4ms/step - loss: 0.0074 - accuracy: 0.9979 - val_loss: 0.1660 - val_accuracy: 0.9793\n",
            "Epoch 53/100\n",
            "1500/1500 [==============================] - 7s 5ms/step - loss: 0.0029 - accuracy: 0.9991 - val_loss: 0.2088 - val_accuracy: 0.9762\n",
            "Epoch 54/100\n",
            "1500/1500 [==============================] - 8s 5ms/step - loss: 0.0087 - accuracy: 0.9976 - val_loss: 0.2133 - val_accuracy: 0.9774\n",
            "Epoch 55/100\n",
            "1500/1500 [==============================] - 10s 7ms/step - loss: 0.0034 - accuracy: 0.9989 - val_loss: 0.1831 - val_accuracy: 0.9787\n",
            "Epoch 56/100\n",
            "1500/1500 [==============================] - 8s 5ms/step - loss: 0.0114 - accuracy: 0.9972 - val_loss: 0.2008 - val_accuracy: 0.9777\n",
            "Epoch 57/100\n",
            "1500/1500 [==============================] - 6s 4ms/step - loss: 0.0052 - accuracy: 0.9986 - val_loss: 0.2141 - val_accuracy: 0.9760\n",
            "Epoch 58/100\n",
            "1500/1500 [==============================] - 8s 5ms/step - loss: 0.0066 - accuracy: 0.9981 - val_loss: 0.2212 - val_accuracy: 0.9770\n",
            "Epoch 59/100\n",
            "1500/1500 [==============================] - 7s 4ms/step - loss: 0.0065 - accuracy: 0.9985 - val_loss: 0.2439 - val_accuracy: 0.9749\n",
            "Epoch 60/100\n",
            "1500/1500 [==============================] - 8s 5ms/step - loss: 0.0053 - accuracy: 0.9985 - val_loss: 0.1880 - val_accuracy: 0.9783\n",
            "Epoch 61/100\n",
            "1500/1500 [==============================] - 8s 5ms/step - loss: 0.0082 - accuracy: 0.9976 - val_loss: 0.1932 - val_accuracy: 0.9790\n",
            "Epoch 62/100\n",
            "1500/1500 [==============================] - 7s 5ms/step - loss: 0.0045 - accuracy: 0.9988 - val_loss: 0.2322 - val_accuracy: 0.9758\n",
            "Epoch 63/100\n",
            "1500/1500 [==============================] - 8s 5ms/step - loss: 0.0068 - accuracy: 0.9982 - val_loss: 0.2062 - val_accuracy: 0.9784\n",
            "Epoch 64/100\n",
            "1500/1500 [==============================] - 7s 4ms/step - loss: 0.0045 - accuracy: 0.9985 - val_loss: 0.2331 - val_accuracy: 0.9765\n",
            "Epoch 65/100\n",
            "1500/1500 [==============================] - 8s 5ms/step - loss: 0.0059 - accuracy: 0.9985 - val_loss: 0.2170 - val_accuracy: 0.9759\n",
            "Epoch 66/100\n",
            "1500/1500 [==============================] - 8s 5ms/step - loss: 0.0073 - accuracy: 0.9980 - val_loss: 0.2004 - val_accuracy: 0.9783\n",
            "Epoch 67/100\n",
            "1500/1500 [==============================] - 7s 5ms/step - loss: 0.0042 - accuracy: 0.9988 - val_loss: 0.2149 - val_accuracy: 0.9785\n",
            "Epoch 68/100\n",
            "1500/1500 [==============================] - 8s 5ms/step - loss: 0.0063 - accuracy: 0.9981 - val_loss: 0.1853 - val_accuracy: 0.9797\n",
            "Epoch 69/100\n",
            "1500/1500 [==============================] - 7s 5ms/step - loss: 0.0066 - accuracy: 0.9981 - val_loss: 0.2311 - val_accuracy: 0.9766\n",
            "Epoch 70/100\n",
            "1500/1500 [==============================] - 8s 5ms/step - loss: 0.0045 - accuracy: 0.9987 - val_loss: 0.2126 - val_accuracy: 0.9789\n",
            "Epoch 71/100\n",
            "1500/1500 [==============================] - 8s 5ms/step - loss: 0.0036 - accuracy: 0.9990 - val_loss: 0.2122 - val_accuracy: 0.9790\n",
            "Epoch 72/100\n",
            "1500/1500 [==============================] - 7s 5ms/step - loss: 0.0069 - accuracy: 0.9982 - val_loss: 0.2669 - val_accuracy: 0.9747\n",
            "Epoch 73/100\n",
            "1500/1500 [==============================] - 8s 5ms/step - loss: 0.0038 - accuracy: 0.9989 - val_loss: 0.2239 - val_accuracy: 0.9777\n",
            "Epoch 74/100\n",
            "1500/1500 [==============================] - 7s 4ms/step - loss: 0.0032 - accuracy: 0.9991 - val_loss: 0.2348 - val_accuracy: 0.9778\n",
            "Epoch 75/100\n",
            "1500/1500 [==============================] - 8s 5ms/step - loss: 0.0083 - accuracy: 0.9979 - val_loss: 0.2384 - val_accuracy: 0.9775\n",
            "Epoch 76/100\n",
            "1500/1500 [==============================] - 7s 5ms/step - loss: 0.0030 - accuracy: 0.9991 - val_loss: 0.2716 - val_accuracy: 0.9760\n",
            "Epoch 77/100\n",
            "1500/1500 [==============================] - 7s 5ms/step - loss: 0.0086 - accuracy: 0.9980 - val_loss: 0.2785 - val_accuracy: 0.9758\n",
            "Epoch 78/100\n",
            "1500/1500 [==============================] - 7s 5ms/step - loss: 0.0053 - accuracy: 0.9987 - val_loss: 0.2013 - val_accuracy: 0.9812\n",
            "Epoch 79/100\n",
            "1500/1500 [==============================] - 7s 4ms/step - loss: 0.0040 - accuracy: 0.9989 - val_loss: 0.2366 - val_accuracy: 0.9785\n",
            "Epoch 80/100\n",
            "1500/1500 [==============================] - 8s 5ms/step - loss: 0.0069 - accuracy: 0.9982 - val_loss: 0.2572 - val_accuracy: 0.9783\n",
            "Epoch 81/100\n",
            "1500/1500 [==============================] - 7s 5ms/step - loss: 0.0061 - accuracy: 0.9986 - val_loss: 0.2101 - val_accuracy: 0.9785\n",
            "Epoch 82/100\n",
            "1500/1500 [==============================] - 8s 5ms/step - loss: 0.0075 - accuracy: 0.9983 - val_loss: 0.2443 - val_accuracy: 0.9786\n",
            "Epoch 83/100\n",
            "1500/1500 [==============================] - 7s 5ms/step - loss: 0.0047 - accuracy: 0.9990 - val_loss: 0.2201 - val_accuracy: 0.9803\n",
            "Epoch 84/100\n",
            "1500/1500 [==============================] - 7s 4ms/step - loss: 0.0062 - accuracy: 0.9986 - val_loss: 0.2242 - val_accuracy: 0.9788\n",
            "Epoch 85/100\n",
            "1500/1500 [==============================] - 8s 5ms/step - loss: 0.0056 - accuracy: 0.9988 - val_loss: 0.2249 - val_accuracy: 0.9799\n",
            "Epoch 86/100\n",
            "1500/1500 [==============================] - 6s 4ms/step - loss: 0.0055 - accuracy: 0.9987 - val_loss: 0.2497 - val_accuracy: 0.9772\n",
            "Epoch 87/100\n",
            "1500/1500 [==============================] - 8s 5ms/step - loss: 0.0046 - accuracy: 0.9989 - val_loss: 0.2291 - val_accuracy: 0.9792\n",
            "Epoch 88/100\n",
            "1500/1500 [==============================] - 6s 4ms/step - loss: 0.0045 - accuracy: 0.9988 - val_loss: 0.2337 - val_accuracy: 0.9789\n",
            "Epoch 89/100\n",
            "1500/1500 [==============================] - 7s 5ms/step - loss: 0.0035 - accuracy: 0.9990 - val_loss: 0.2541 - val_accuracy: 0.9788\n",
            "Epoch 90/100\n",
            "1500/1500 [==============================] - 6s 4ms/step - loss: 0.0063 - accuracy: 0.9985 - val_loss: 0.2814 - val_accuracy: 0.9765\n",
            "Epoch 91/100\n",
            "1500/1500 [==============================] - 7s 5ms/step - loss: 0.0051 - accuracy: 0.9987 - val_loss: 0.2474 - val_accuracy: 0.9781\n",
            "Epoch 92/100\n",
            "1500/1500 [==============================] - 7s 5ms/step - loss: 0.0051 - accuracy: 0.9988 - val_loss: 0.2416 - val_accuracy: 0.9799\n",
            "Epoch 93/100\n",
            "1500/1500 [==============================] - 7s 4ms/step - loss: 0.0075 - accuracy: 0.9986 - val_loss: 0.2292 - val_accuracy: 0.9788\n",
            "Epoch 94/100\n",
            "1500/1500 [==============================] - 8s 5ms/step - loss: 0.0044 - accuracy: 0.9989 - val_loss: 0.3018 - val_accuracy: 0.9739\n",
            "Epoch 95/100\n",
            "1500/1500 [==============================] - 6s 4ms/step - loss: 0.0038 - accuracy: 0.9988 - val_loss: 0.2479 - val_accuracy: 0.9778\n",
            "Epoch 96/100\n",
            "1500/1500 [==============================] - 8s 5ms/step - loss: 0.0051 - accuracy: 0.9986 - val_loss: 0.2873 - val_accuracy: 0.9762\n",
            "Epoch 97/100\n",
            "1500/1500 [==============================] - 7s 5ms/step - loss: 0.0034 - accuracy: 0.9992 - val_loss: 0.2515 - val_accuracy: 0.9782\n",
            "Epoch 98/100\n",
            "1500/1500 [==============================] - 8s 5ms/step - loss: 0.0069 - accuracy: 0.9987 - val_loss: 0.2720 - val_accuracy: 0.9783\n",
            "Epoch 99/100\n",
            "1500/1500 [==============================] - 6s 4ms/step - loss: 0.0053 - accuracy: 0.9987 - val_loss: 0.2496 - val_accuracy: 0.9786\n",
            "Epoch 100/100\n",
            "1500/1500 [==============================] - 7s 4ms/step - loss: 0.0057 - accuracy: 0.9984 - val_loss: 0.2940 - val_accuracy: 0.9781\n"
          ]
        }
      ]
    },
    {
      "cell_type": "code",
      "source": [
        "y_prob = model.predict(X_test)"
      ],
      "metadata": {
        "id": "CazuknkLW_LY",
        "outputId": "64311d9b-813e-48f1-9e4f-8cdded7ddf6b",
        "colab": {
          "base_uri": "https://localhost:8080/"
        }
      },
      "execution_count": null,
      "outputs": [
        {
          "output_type": "stream",
          "name": "stdout",
          "text": [
            "313/313 [==============================] - 1s 2ms/step\n"
          ]
        }
      ]
    },
    {
      "cell_type": "code",
      "source": [
        "y_pred = y_prob.argmax(axis=1)"
      ],
      "metadata": {
        "id": "5nELQpFrXQIi"
      },
      "execution_count": null,
      "outputs": []
    },
    {
      "cell_type": "code",
      "source": [
        "from sklearn.metrics import accuracy_score\n",
        "accuracy_score(y_test,y_pred)"
      ],
      "metadata": {
        "colab": {
          "base_uri": "https://localhost:8080/"
        },
        "id": "jcyA9XVHXY6o",
        "outputId": "47c5b3d9-ab42-4933-d98f-5f28f9f13bfa"
      },
      "execution_count": null,
      "outputs": [
        {
          "output_type": "execute_result",
          "data": {
            "text/plain": [
              "0.9766"
            ]
          },
          "metadata": {},
          "execution_count": 15
        }
      ]
    },
    {
      "cell_type": "code",
      "source": [
        "plt.plot(history.history['loss'])\n",
        "plt.plot(history.history['val_loss'])"
      ],
      "metadata": {
        "colab": {
          "base_uri": "https://localhost:8080/",
          "height": 448
        },
        "id": "NT2HxBnDXv_V",
        "outputId": "af10fdad-79ca-4287-972e-92d1ac214499"
      },
      "execution_count": null,
      "outputs": [
        {
          "output_type": "execute_result",
          "data": {
            "text/plain": [
              "[<matplotlib.lines.Line2D at 0x7b104c44f520>]"
            ]
          },
          "metadata": {},
          "execution_count": 16
        },
        {
          "output_type": "display_data",
          "data": {
            "text/plain": [
              "<Figure size 640x480 with 1 Axes>"
            ],
            "image/png": "[encoded data removed]"
          },
          "metadata": {}
        }
      ]
    },
    {
      "cell_type": "code",
      "source": [
        "plt.plot(history.history['accuracy'])\n",
        "plt.plot(history.history['val_accuracy'])"
      ],
      "metadata": {
        "colab": {
          "base_uri": "https://localhost:8080/",
          "height": 448
        },
        "id": "Ln1DIjDOY8E7",
        "outputId": "eb366250-3de1-4b4c-aca3-71ffcfcea9de"
      },
      "execution_count": null,
      "outputs": [
        {
          "output_type": "execute_result",
          "data": {
            "text/plain": [
              "[<matplotlib.lines.Line2D at 0x7b104c0b13f0>]"
            ]
          },
          "metadata": {},
          "execution_count": 17
        },
        {
          "output_type": "display_data",
          "data": {
            "text/plain": [
              "<Figure size 640x480 with 1 Axes>"
            ],
            "image/png": "[encoded data removed]"
          },
          "metadata": {}
        }
      ]
    },
    {
      "cell_type": "code",
      "source": [
        "plt.imshow(X_test[1])"
      ],
      "metadata": {
        "colab": {
          "base_uri": "https://localhost:8080/",
          "height": 448
        },
        "id": "F0eTtwmSZGQn",
        "outputId": "a15118c1-b7d3-4395-b66b-6778f2354d8c"
      },
      "execution_count": null,
      "outputs": [
        {
          "output_type": "execute_result",
          "data": {
            "text/plain": [
              "<matplotlib.image.AxesImage at 0x7b104c0feb90>"
            ]
          },
          "metadata": {},
          "execution_count": 18
        },
        {
          "output_type": "display_data",
          "data": {
            "text/plain": [
              "<Figure size 640x480 with 1 Axes>"
            ],
            "image/png": "[encoded data removed]"
          },
          "metadata": {}
        }
      ]
    },
    {
      "cell_type": "code",
      "source": [
        "model.predict(X_test[1].reshape(1,28,28)).argmax(axis=1)"
      ],
      "metadata": {
        "colab": {
          "base_uri": "https://localhost:8080/"
        },
        "id": "mBKWjIxealMY",
        "outputId": "8bbae124-67fd-4b03-8e0b-5c3b7489db92"
      },
      "execution_count": null,
      "outputs": [
        {
          "output_type": "stream",
          "name": "stdout",
          "text": [
            "1/1 [==============================] - 0s 25ms/step\n"
          ]
        },
        {
          "output_type": "execute_result",
          "data": {
            "text/plain": [
              "array([2])"
            ]
          },
          "metadata": {},
          "execution_count": 19
        }
      ]
    },
    {
      "cell_type": "code",
      "source": [
        "#Applying the CNN model for the dataset\n",
        "import tensorflow as tf\n",
        "from tensorflow.keras import layers, models\n",
        "from tensorflow.keras.datasets import mnist\n",
        "\n",
        "# Load the MNIST dataset\n",
        "(train_images, train_labels), (test_images, test_labels) = mnist.load_data()\n",
        "\n",
        "# Preprocess the data\n",
        "train_images = train_images.reshape((60000, 28, 28, 1)).astype('float32') / 255\n",
        "test_images = test_images.reshape((10000, 28, 28, 1)).astype('float32') / 255\n",
        "\n",
        "# Convert labels to one-hot encoding\n",
        "train_labels = tf.keras.utils.to_categorical(train_labels)\n",
        "test_labels = tf.keras.utils.to_categorical(test_labels)\n",
        "\n",
        "# Build the CNN model\n",
        "\n"
      ],
      "metadata": {
        "id": "onfLjtuZatoe",
        "colab": {
          "base_uri": "https://localhost:8080/"
        },
        "outputId": "5da7773c-f145-4223-fbe6-c128bd2e598f"
      },
      "execution_count": null,
      "outputs": [
        {
          "output_type": "stream",
          "name": "stdout",
          "text": [
            "Downloading data from https://storage.googleapis.com/tensorflow/tf-keras-datasets/mnist.npz\n",
            "11490434/11490434 [==============================] - 0s 0us/step\n"
          ]
        }
      ]
    },
    {
      "cell_type": "code",
      "source": [
        "model1 = models.Sequential([\n",
        "    layers.Conv2D(32, (3, 3), activation='relu', input_shape=(28, 28, 1)),\n",
        "    layers.MaxPooling2D((2, 2)),\n",
        "    layers.Conv2D(64, (3, 3), activation='relu'),\n",
        "    layers.MaxPooling2D((2, 2)),\n",
        "    layers.Conv2D(64, (3, 3), activation='relu'),\n",
        "    layers.Flatten(),\n",
        "    layers.Dense(64, activation='relu'),\n",
        "    layers.Dense(10, activation='softmax')\n",
        "])\n",
        "\n",
        "# Compile the model\n"
      ],
      "metadata": {
        "id": "Q23qilqEGLjY"
      },
      "execution_count": null,
      "outputs": []
    },
    {
      "cell_type": "code",
      "source": [
        "model1.summary()"
      ],
      "metadata": {
        "id": "kEf5fMC3H9Oz",
        "outputId": "41ab1e7d-d907-4af3-ec6f-1519bb5194fd",
        "colab": {
          "base_uri": "https://localhost:8080/"
        }
      },
      "execution_count": null,
      "outputs": [
        {
          "output_type": "stream",
          "name": "stdout",
          "text": [
            "Model: \"sequential_4\"\n",
            "_________________________________________________________________\n",
            " Layer (type)                Output Shape              Param #   \n",
            "=================================================================\n",
            " conv2d_6 (Conv2D)           (None, 26, 26, 32)        320       \n",
            "                                                                 \n",
            " max_pooling2d_4 (MaxPooling  (None, 13, 13, 32)       0         \n",
            " 2D)                                                             \n",
            "                                                                 \n",
            " conv2d_7 (Conv2D)           (None, 11, 11, 64)        18496     \n",
            "                                                                 \n",
            " max_pooling2d_5 (MaxPooling  (None, 5, 5, 64)         0         \n",
            " 2D)                                                             \n",
            "                                                                 \n",
            " conv2d_8 (Conv2D)           (None, 3, 3, 64)          36928     \n",
            "                                                                 \n",
            " flatten_4 (Flatten)         (None, 576)               0         \n",
            "                                                                 \n",
            " dense_8 (Dense)             (None, 64)                36928     \n",
            "                                                                 \n",
            " dense_9 (Dense)             (None, 10)                650       \n",
            "                                                                 \n",
            "=================================================================\n",
            "Total params: 93,322\n",
            "Trainable params: 93,322\n",
            "Non-trainable params: 0\n",
            "_________________________________________________________________\n"
          ]
        }
      ]
    },
    {
      "cell_type": "code",
      "source": [
        "model1.compile(optimizer='adam',\n",
        "              loss='categorical_crossentropy',\n",
        "              metrics=['accuracy'])\n",
        "\n",
        "# Train the model\n"
      ],
      "metadata": {
        "id": "jHx4z-roGS8k"
      },
      "execution_count": null,
      "outputs": []
    },
    {
      "cell_type": "code",
      "source": [
        "model1.fit(train_images, train_labels, epochs=50, batch_size=64, validation_split=0.1,verbose=1)\n",
        "\n",
        "# Evaluate the model\n"
      ],
      "metadata": {
        "id": "L4Ny1G1oGaI_",
        "outputId": "f626de2d-ce99-4180-8fae-a3034d2685db",
        "colab": {
          "base_uri": "https://localhost:8080/"
        }
      },
      "execution_count": null,
      "outputs": [
        {
          "output_type": "stream",
          "name": "stdout",
          "text": [
            "Epoch 1/50\n",
            "844/844 [==============================] - 58s 69ms/step - loss: 0.0826 - accuracy: 0.9739 - val_loss: 0.0480 - val_accuracy: 0.9862\n",
            "Epoch 2/50\n",
            "844/844 [==============================] - 52s 61ms/step - loss: 0.0494 - accuracy: 0.9849 - val_loss: 0.0479 - val_accuracy: 0.9873\n",
            "Epoch 3/50\n",
            "844/844 [==============================] - 51s 61ms/step - loss: 0.0363 - accuracy: 0.9886 - val_loss: 0.0364 - val_accuracy: 0.9890\n",
            "Epoch 4/50\n",
            "844/844 [==============================] - 51s 61ms/step - loss: 0.0289 - accuracy: 0.9909 - val_loss: 0.0396 - val_accuracy: 0.9880\n",
            "Epoch 5/50\n",
            "844/844 [==============================] - 50s 59ms/step - loss: 0.0234 - accuracy: 0.9922 - val_loss: 0.0359 - val_accuracy: 0.9900\n",
            "Epoch 6/50\n",
            "844/844 [==============================] - 51s 61ms/step - loss: 0.0204 - accuracy: 0.9936 - val_loss: 0.0399 - val_accuracy: 0.9893\n",
            "Epoch 7/50\n",
            "844/844 [==============================] - 52s 61ms/step - loss: 0.0149 - accuracy: 0.9951 - val_loss: 0.0368 - val_accuracy: 0.9895\n",
            "Epoch 8/50\n",
            "844/844 [==============================] - 51s 61ms/step - loss: 0.0135 - accuracy: 0.9955 - val_loss: 0.0404 - val_accuracy: 0.9892\n",
            "Epoch 9/50\n",
            "844/844 [==============================] - 53s 63ms/step - loss: 0.0124 - accuracy: 0.9956 - val_loss: 0.0355 - val_accuracy: 0.9918\n",
            "Epoch 10/50\n",
            "844/844 [==============================] - 54s 64ms/step - loss: 0.0106 - accuracy: 0.9964 - val_loss: 0.0444 - val_accuracy: 0.9900\n",
            "Epoch 11/50\n",
            "844/844 [==============================] - 50s 59ms/step - loss: 0.0090 - accuracy: 0.9970 - val_loss: 0.0426 - val_accuracy: 0.9913\n",
            "Epoch 12/50\n",
            "844/844 [==============================] - 49s 58ms/step - loss: 0.0078 - accuracy: 0.9975 - val_loss: 0.0394 - val_accuracy: 0.9922\n",
            "Epoch 13/50\n",
            "844/844 [==============================] - 50s 59ms/step - loss: 0.0073 - accuracy: 0.9975 - val_loss: 0.0401 - val_accuracy: 0.9908\n",
            "Epoch 14/50\n",
            "844/844 [==============================] - 50s 59ms/step - loss: 0.0085 - accuracy: 0.9971 - val_loss: 0.0462 - val_accuracy: 0.9915\n",
            "Epoch 15/50\n",
            "844/844 [==============================] - 51s 60ms/step - loss: 0.0052 - accuracy: 0.9982 - val_loss: 0.0438 - val_accuracy: 0.9927\n",
            "Epoch 16/50\n",
            "844/844 [==============================] - 51s 60ms/step - loss: 0.0056 - accuracy: 0.9980 - val_loss: 0.0515 - val_accuracy: 0.9887\n",
            "Epoch 17/50\n",
            "844/844 [==============================] - 51s 60ms/step - loss: 0.0064 - accuracy: 0.9979 - val_loss: 0.0427 - val_accuracy: 0.9907\n",
            "Epoch 18/50\n",
            "844/844 [==============================] - 49s 58ms/step - loss: 0.0043 - accuracy: 0.9985 - val_loss: 0.0629 - val_accuracy: 0.9882\n",
            "Epoch 19/50\n",
            "844/844 [==============================] - 51s 60ms/step - loss: 0.0041 - accuracy: 0.9985 - val_loss: 0.0497 - val_accuracy: 0.9920\n",
            "Epoch 20/50\n",
            "844/844 [==============================] - 49s 59ms/step - loss: 0.0038 - accuracy: 0.9987 - val_loss: 0.0452 - val_accuracy: 0.9920\n",
            "Epoch 21/50\n",
            "844/844 [==============================] - 50s 59ms/step - loss: 0.0047 - accuracy: 0.9985 - val_loss: 0.0586 - val_accuracy: 0.9898\n",
            "Epoch 22/50\n",
            "844/844 [==============================] - 50s 59ms/step - loss: 0.0055 - accuracy: 0.9983 - val_loss: 0.0482 - val_accuracy: 0.9917\n",
            "Epoch 23/50\n",
            "844/844 [==============================] - 50s 59ms/step - loss: 0.0053 - accuracy: 0.9981 - val_loss: 0.0603 - val_accuracy: 0.9912\n",
            "Epoch 24/50\n",
            "844/844 [==============================] - 50s 60ms/step - loss: 0.0035 - accuracy: 0.9989 - val_loss: 0.0407 - val_accuracy: 0.9920\n",
            "Epoch 25/50\n",
            "844/844 [==============================] - 50s 60ms/step - loss: 2.7761e-04 - accuracy: 0.9999 - val_loss: 0.0434 - val_accuracy: 0.9930\n",
            "Epoch 26/50\n",
            "844/844 [==============================] - 49s 58ms/step - loss: 0.0080 - accuracy: 0.9976 - val_loss: 0.0452 - val_accuracy: 0.9935\n",
            "Epoch 27/50\n",
            "844/844 [==============================] - 50s 59ms/step - loss: 0.0022 - accuracy: 0.9994 - val_loss: 0.0499 - val_accuracy: 0.9918\n",
            "Epoch 28/50\n",
            "844/844 [==============================] - 51s 60ms/step - loss: 0.0028 - accuracy: 0.9989 - val_loss: 0.0501 - val_accuracy: 0.9908\n",
            "Epoch 29/50\n",
            "844/844 [==============================] - 50s 59ms/step - loss: 0.0028 - accuracy: 0.9990 - val_loss: 0.0665 - val_accuracy: 0.9902\n",
            "Epoch 30/50\n",
            "844/844 [==============================] - 49s 58ms/step - loss: 0.0041 - accuracy: 0.9987 - val_loss: 0.0646 - val_accuracy: 0.9905\n",
            "Epoch 31/50\n",
            "844/844 [==============================] - 51s 60ms/step - loss: 0.0048 - accuracy: 0.9982 - val_loss: 0.0625 - val_accuracy: 0.9897\n",
            "Epoch 32/50\n",
            "844/844 [==============================] - 51s 61ms/step - loss: 0.0024 - accuracy: 0.9992 - val_loss: 0.0598 - val_accuracy: 0.9912\n",
            "Epoch 33/50\n",
            "844/844 [==============================] - 50s 59ms/step - loss: 0.0033 - accuracy: 0.9991 - val_loss: 0.0520 - val_accuracy: 0.9920\n",
            "Epoch 34/50\n",
            "844/844 [==============================] - 50s 59ms/step - loss: 7.7266e-04 - accuracy: 0.9998 - val_loss: 0.0718 - val_accuracy: 0.9893\n",
            "Epoch 35/50\n",
            "844/844 [==============================] - 50s 59ms/step - loss: 0.0049 - accuracy: 0.9985 - val_loss: 0.0556 - val_accuracy: 0.9927\n",
            "Epoch 36/50\n",
            "844/844 [==============================] - 49s 57ms/step - loss: 0.0032 - accuracy: 0.9990 - val_loss: 0.0753 - val_accuracy: 0.9908\n",
            "Epoch 37/50\n",
            "844/844 [==============================] - 50s 59ms/step - loss: 0.0024 - accuracy: 0.9994 - val_loss: 0.0711 - val_accuracy: 0.9908\n",
            "Epoch 38/50\n",
            "844/844 [==============================] - 51s 60ms/step - loss: 0.0025 - accuracy: 0.9991 - val_loss: 0.0897 - val_accuracy: 0.9902\n",
            "Epoch 39/50\n",
            "844/844 [==============================] - 51s 61ms/step - loss: 0.0048 - accuracy: 0.9987 - val_loss: 0.0662 - val_accuracy: 0.9918\n",
            "Epoch 40/50\n",
            "844/844 [==============================] - 54s 63ms/step - loss: 0.0017 - accuracy: 0.9994 - val_loss: 0.0701 - val_accuracy: 0.9922\n",
            "Epoch 41/50\n",
            "844/844 [==============================] - 66s 78ms/step - loss: 0.0028 - accuracy: 0.9991 - val_loss: 0.0752 - val_accuracy: 0.9900\n",
            "Epoch 42/50\n",
            "844/844 [==============================] - 52s 62ms/step - loss: 0.0043 - accuracy: 0.9987 - val_loss: 0.0661 - val_accuracy: 0.9917\n",
            "Epoch 43/50\n",
            "844/844 [==============================] - 52s 61ms/step - loss: 0.0018 - accuracy: 0.9994 - val_loss: 0.0667 - val_accuracy: 0.9917\n",
            "Epoch 44/50\n",
            "844/844 [==============================] - 50s 59ms/step - loss: 0.0018 - accuracy: 0.9995 - val_loss: 0.0846 - val_accuracy: 0.9892\n",
            "Epoch 45/50\n",
            "844/844 [==============================] - 50s 60ms/step - loss: 0.0045 - accuracy: 0.9987 - val_loss: 0.1080 - val_accuracy: 0.9885\n",
            "Epoch 46/50\n",
            "844/844 [==============================] - 51s 61ms/step - loss: 0.0019 - accuracy: 0.9994 - val_loss: 0.0905 - val_accuracy: 0.9905\n",
            "Epoch 47/50\n",
            "844/844 [==============================] - 51s 61ms/step - loss: 0.0023 - accuracy: 0.9994 - val_loss: 0.0574 - val_accuracy: 0.9910\n",
            "Epoch 48/50\n",
            "844/844 [==============================] - 52s 61ms/step - loss: 8.3685e-04 - accuracy: 0.9997 - val_loss: 0.0677 - val_accuracy: 0.9922\n",
            "Epoch 49/50\n",
            "844/844 [==============================] - 52s 61ms/step - loss: 1.6075e-04 - accuracy: 1.0000 - val_loss: 0.0673 - val_accuracy: 0.9922\n",
            "Epoch 50/50\n",
            "844/844 [==============================] - 51s 61ms/step - loss: 0.0046 - accuracy: 0.9989 - val_loss: 0.0599 - val_accuracy: 0.9938\n"
          ]
        },
        {
          "output_type": "execute_result",
          "data": {
            "text/plain": [
              "<keras.callbacks.History at 0x7b104e4e1840>"
            ]
          },
          "metadata": {},
          "execution_count": 32
        }
      ]
    },
    {
      "cell_type": "code",
      "source": [
        "test_loss, test_acc = model.evaluate(test_images, test_labels)\n",
        "print('Test accuracy:', test_acc)"
      ],
      "metadata": {
        "id": "IaDCGwT5H0Dt",
        "outputId": "5dc27f96-883c-4797-c9fc-871b1d65df74",
        "colab": {
          "base_uri": "https://localhost:8080/"
        }
      },
      "execution_count": null,
      "outputs": [
        {
          "output_type": "stream",
          "name": "stdout",
          "text": [
            "313/313 [==============================] - 1s 2ms/step - loss: 0.2446 - accuracy: 0.9809\n",
            "Test accuracy: 0.98089998960495\n"
          ]
        }
      ]
    },
    {
      "cell_type": "code",
      "source": [
        "from tensorflow.keras import activations\n",
        "from tensorflow.keras import layers, models\n",
        "\n",
        "# Define activation functions\n",
        "activation_functions = ['relu', 'elu', 'swish']\n",
        "\n",
        "# List to store models\n",
        "models_list = []\n",
        "\n",
        "for activation_func in activation_functions:\n",
        "    # Create the model\n",
        "    comb_models = models.Sequential([\n",
        "        layers.Conv2D(32, (3, 3), activation=activation_func, input_shape=(28, 28, 1)),\n",
        "        layers.MaxPooling2D((2, 2)),\n",
        "        layers.Conv2D(64, (3, 3), activation=activation_func),\n",
        "        layers.MaxPooling2D((2, 2)),\n",
        "        layers.Conv2D(64, (3, 3), activation=activation_func),\n",
        "        layers.Flatten(),\n",
        "        layers.Dense(64, activation=activation_func),\n",
        "        layers.Dense(10, activation='softmax')\n",
        "    ])\n",
        "\n",
        "    # Compile the model\n",
        "    comb_models.compile(optimizer='adam',\n",
        "                  loss='categorical_crossentropy',\n",
        "                  metrics=['accuracy'])\n",
        "\n",
        "    models_list.append(comb_models)\n",
        "\n",
        "# Train and evaluate each model\n",
        "for idx, model in enumerate(models_list):\n",
        "    print(f\"Training model with {activation_functions[idx]} activation function...\")\n",
        "    model.fit(train_images, train_labels, epochs=25, batch_size=64, validation_split=0.1, verbose=1)\n",
        "\n",
        "    # Evaluate the model\n",
        "    test_loss, test_acc = model.evaluate(test_images, test_labels)\n",
        "    print(f\"Test accuracy of model with {activation_functions[idx]} activation function: {test_acc}\")\n",
        "\n"
      ],
      "metadata": {
        "id": "SZ-3YRqBIzMY",
        "outputId": "1b169013-d47f-44d3-e099-cd420d1d2fa2",
        "colab": {
          "base_uri": "https://localhost:8080/"
        }
      },
      "execution_count": null,
      "outputs": [
        {
          "output_type": "stream",
          "name": "stdout",
          "text": [
            "Training model with relu activation function...\n",
            "Epoch 1/25\n",
            "844/844 [==============================] - 26s 29ms/step - loss: 0.1910 - accuracy: 0.9425 - val_loss: 0.0526 - val_accuracy: 0.9867\n",
            "Epoch 2/25\n",
            "844/844 [==============================] - 25s 30ms/step - loss: 0.0527 - accuracy: 0.9830 - val_loss: 0.0419 - val_accuracy: 0.9875\n",
            "Epoch 3/25\n",
            "844/844 [==============================] - 25s 29ms/step - loss: 0.0366 - accuracy: 0.9886 - val_loss: 0.0403 - val_accuracy: 0.9885\n",
            "Epoch 4/25\n",
            "844/844 [==============================] - 25s 30ms/step - loss: 0.0272 - accuracy: 0.9909 - val_loss: 0.0275 - val_accuracy: 0.9917\n",
            "Epoch 5/25\n",
            "844/844 [==============================] - 26s 30ms/step - loss: 0.0234 - accuracy: 0.9926 - val_loss: 0.0300 - val_accuracy: 0.9922\n",
            "Epoch 6/25\n",
            "844/844 [==============================] - 25s 29ms/step - loss: 0.0184 - accuracy: 0.9937 - val_loss: 0.0343 - val_accuracy: 0.9908\n",
            "Epoch 7/25\n",
            "844/844 [==============================] - 25s 29ms/step - loss: 0.0154 - accuracy: 0.9949 - val_loss: 0.0338 - val_accuracy: 0.9917\n",
            "Epoch 8/25\n",
            "844/844 [==============================] - 25s 30ms/step - loss: 0.0121 - accuracy: 0.9961 - val_loss: 0.0335 - val_accuracy: 0.9920\n",
            "Epoch 9/25\n",
            "844/844 [==============================] - 25s 29ms/step - loss: 0.0114 - accuracy: 0.9962 - val_loss: 0.0423 - val_accuracy: 0.9882\n",
            "Epoch 10/25\n",
            "844/844 [==============================] - 25s 30ms/step - loss: 0.0093 - accuracy: 0.9967 - val_loss: 0.0455 - val_accuracy: 0.9897\n",
            "Epoch 11/25\n",
            "844/844 [==============================] - 25s 30ms/step - loss: 0.0090 - accuracy: 0.9969 - val_loss: 0.0463 - val_accuracy: 0.9917\n",
            "Epoch 12/25\n",
            "844/844 [==============================] - 25s 30ms/step - loss: 0.0070 - accuracy: 0.9978 - val_loss: 0.0391 - val_accuracy: 0.9925\n",
            "Epoch 13/25\n",
            "844/844 [==============================] - 25s 30ms/step - loss: 0.0075 - accuracy: 0.9974 - val_loss: 0.0399 - val_accuracy: 0.9923\n",
            "Epoch 14/25\n",
            "844/844 [==============================] - 25s 30ms/step - loss: 0.0047 - accuracy: 0.9983 - val_loss: 0.0508 - val_accuracy: 0.9922\n",
            "Epoch 15/25\n",
            "844/844 [==============================] - 25s 30ms/step - loss: 0.0066 - accuracy: 0.9977 - val_loss: 0.0444 - val_accuracy: 0.9913\n",
            "Epoch 16/25\n",
            "844/844 [==============================] - 24s 29ms/step - loss: 0.0044 - accuracy: 0.9985 - val_loss: 0.0488 - val_accuracy: 0.9923\n",
            "Epoch 17/25\n",
            "844/844 [==============================] - 25s 29ms/step - loss: 0.0058 - accuracy: 0.9981 - val_loss: 0.0418 - val_accuracy: 0.9925\n",
            "Epoch 18/25\n",
            "844/844 [==============================] - 24s 29ms/step - loss: 0.0045 - accuracy: 0.9985 - val_loss: 0.0420 - val_accuracy: 0.9925\n",
            "Epoch 19/25\n",
            "844/844 [==============================] - 24s 29ms/step - loss: 0.0051 - accuracy: 0.9983 - val_loss: 0.0453 - val_accuracy: 0.9917\n",
            "Epoch 20/25\n",
            "844/844 [==============================] - 25s 30ms/step - loss: 0.0036 - accuracy: 0.9988 - val_loss: 0.0526 - val_accuracy: 0.9922\n",
            "Epoch 21/25\n",
            "844/844 [==============================] - 25s 30ms/step - loss: 0.0032 - accuracy: 0.9990 - val_loss: 0.0523 - val_accuracy: 0.9910\n",
            "Epoch 22/25\n",
            "844/844 [==============================] - 24s 29ms/step - loss: 0.0055 - accuracy: 0.9984 - val_loss: 0.0547 - val_accuracy: 0.9917\n",
            "Epoch 23/25\n",
            "844/844 [==============================] - 24s 28ms/step - loss: 0.0034 - accuracy: 0.9990 - val_loss: 0.0602 - val_accuracy: 0.9905\n",
            "Epoch 24/25\n",
            "844/844 [==============================] - 25s 29ms/step - loss: 0.0047 - accuracy: 0.9988 - val_loss: 0.0408 - val_accuracy: 0.9915\n",
            "Epoch 25/25\n",
            "844/844 [==============================] - 25s 29ms/step - loss: 0.0019 - accuracy: 0.9993 - val_loss: 0.0494 - val_accuracy: 0.9925\n",
            "313/313 [==============================] - 2s 6ms/step - loss: 0.0378 - accuracy: 0.9925\n",
            "Test accuracy of model with relu activation function: 0.9925000071525574\n",
            "Training model with elu activation function...\n",
            "Epoch 1/25\n",
            "844/844 [==============================] - 28s 33ms/step - loss: 0.1698 - accuracy: 0.9486 - val_loss: 0.0598 - val_accuracy: 0.9835\n",
            "Epoch 2/25\n",
            "844/844 [==============================] - 28s 33ms/step - loss: 0.0510 - accuracy: 0.9844 - val_loss: 0.0450 - val_accuracy: 0.9887\n",
            "Epoch 3/25\n",
            "844/844 [==============================] - 28s 33ms/step - loss: 0.0381 - accuracy: 0.9881 - val_loss: 0.0411 - val_accuracy: 0.9888\n",
            "Epoch 4/25\n",
            "844/844 [==============================] - 27s 32ms/step - loss: 0.0284 - accuracy: 0.9913 - val_loss: 0.0447 - val_accuracy: 0.9883\n",
            "Epoch 5/25\n",
            "844/844 [==============================] - 28s 33ms/step - loss: 0.0252 - accuracy: 0.9921 - val_loss: 0.0433 - val_accuracy: 0.9888\n",
            "Epoch 6/25\n",
            "844/844 [==============================] - 27s 32ms/step - loss: 0.0182 - accuracy: 0.9939 - val_loss: 0.0464 - val_accuracy: 0.9902\n",
            "Epoch 7/25\n",
            "844/844 [==============================] - 28s 33ms/step - loss: 0.0187 - accuracy: 0.9942 - val_loss: 0.0599 - val_accuracy: 0.9848\n",
            "Epoch 8/25\n",
            "844/844 [==============================] - 27s 32ms/step - loss: 0.0138 - accuracy: 0.9952 - val_loss: 0.0469 - val_accuracy: 0.9888\n",
            "Epoch 9/25\n",
            "844/844 [==============================] - 27s 32ms/step - loss: 0.0153 - accuracy: 0.9949 - val_loss: 0.0600 - val_accuracy: 0.9890\n",
            "Epoch 10/25\n",
            "844/844 [==============================] - 28s 33ms/step - loss: 0.0112 - accuracy: 0.9964 - val_loss: 0.0421 - val_accuracy: 0.9920\n",
            "Epoch 11/25\n",
            "844/844 [==============================] - 27s 32ms/step - loss: 0.0115 - accuracy: 0.9965 - val_loss: 0.0502 - val_accuracy: 0.9905\n",
            "Epoch 12/25\n",
            "844/844 [==============================] - 27s 33ms/step - loss: 0.0116 - accuracy: 0.9964 - val_loss: 0.0542 - val_accuracy: 0.9905\n",
            "Epoch 13/25\n",
            "844/844 [==============================] - 27s 32ms/step - loss: 0.0094 - accuracy: 0.9971 - val_loss: 0.0768 - val_accuracy: 0.9902\n",
            "Epoch 14/25\n",
            "844/844 [==============================] - 27s 32ms/step - loss: 0.0102 - accuracy: 0.9970 - val_loss: 0.0525 - val_accuracy: 0.9898\n",
            "Epoch 15/25\n",
            "844/844 [==============================] - 28s 33ms/step - loss: 0.0068 - accuracy: 0.9980 - val_loss: 0.0716 - val_accuracy: 0.9887\n",
            "Epoch 16/25\n",
            "844/844 [==============================] - 27s 32ms/step - loss: 0.0103 - accuracy: 0.9971 - val_loss: 0.0646 - val_accuracy: 0.9898\n",
            "Epoch 17/25\n",
            "844/844 [==============================] - 28s 33ms/step - loss: 0.0116 - accuracy: 0.9966 - val_loss: 0.0651 - val_accuracy: 0.9892\n",
            "Epoch 18/25\n",
            "844/844 [==============================] - 27s 32ms/step - loss: 0.0054 - accuracy: 0.9985 - val_loss: 0.0636 - val_accuracy: 0.9913\n",
            "Epoch 19/25\n",
            "844/844 [==============================] - 28s 33ms/step - loss: 0.0067 - accuracy: 0.9980 - val_loss: 0.0590 - val_accuracy: 0.9912\n",
            "Epoch 20/25\n",
            "844/844 [==============================] - 27s 32ms/step - loss: 0.0096 - accuracy: 0.9971 - val_loss: 0.0762 - val_accuracy: 0.9877\n",
            "Epoch 21/25\n",
            "844/844 [==============================] - 27s 32ms/step - loss: 0.0074 - accuracy: 0.9978 - val_loss: 0.0703 - val_accuracy: 0.9887\n",
            "Epoch 22/25\n",
            "844/844 [==============================] - 28s 33ms/step - loss: 0.0076 - accuracy: 0.9979 - val_loss: 0.0850 - val_accuracy: 0.9898\n",
            "Epoch 23/25\n",
            "844/844 [==============================] - 27s 32ms/step - loss: 0.0060 - accuracy: 0.9985 - val_loss: 0.0744 - val_accuracy: 0.9907\n",
            "Epoch 24/25\n",
            "844/844 [==============================] - 28s 33ms/step - loss: 0.0062 - accuracy: 0.9984 - val_loss: 0.0710 - val_accuracy: 0.9903\n",
            "Epoch 25/25\n",
            "844/844 [==============================] - 27s 32ms/step - loss: 0.0081 - accuracy: 0.9979 - val_loss: 0.0728 - val_accuracy: 0.9913\n",
            "313/313 [==============================] - 2s 5ms/step - loss: 0.0651 - accuracy: 0.9911\n",
            "Test accuracy of model with elu activation function: 0.991100013256073\n",
            "Training model with swish activation function...\n",
            "Epoch 1/25\n",
            "844/844 [==============================] - 32s 37ms/step - loss: 0.2062 - accuracy: 0.9379 - val_loss: 0.0525 - val_accuracy: 0.9848\n",
            "Epoch 2/25\n",
            "844/844 [==============================] - 30s 36ms/step - loss: 0.0496 - accuracy: 0.9844 - val_loss: 0.0424 - val_accuracy: 0.9885\n",
            "Epoch 3/25\n",
            "844/844 [==============================] - 31s 37ms/step - loss: 0.0337 - accuracy: 0.9898 - val_loss: 0.0363 - val_accuracy: 0.9905\n",
            "Epoch 4/25\n",
            "844/844 [==============================] - 30s 36ms/step - loss: 0.0252 - accuracy: 0.9914 - val_loss: 0.0387 - val_accuracy: 0.9887\n",
            "Epoch 5/25\n",
            "844/844 [==============================] - 30s 36ms/step - loss: 0.0192 - accuracy: 0.9941 - val_loss: 0.0357 - val_accuracy: 0.9897\n",
            "Epoch 6/25\n",
            "844/844 [==============================] - 31s 36ms/step - loss: 0.0153 - accuracy: 0.9950 - val_loss: 0.0338 - val_accuracy: 0.9903\n",
            "Epoch 7/25\n",
            "844/844 [==============================] - 31s 36ms/step - loss: 0.0121 - accuracy: 0.9959 - val_loss: 0.0397 - val_accuracy: 0.9898\n",
            "Epoch 8/25\n",
            "844/844 [==============================] - 46s 55ms/step - loss: 0.0099 - accuracy: 0.9967 - val_loss: 0.0360 - val_accuracy: 0.9912\n",
            "Epoch 9/25\n",
            "844/844 [==============================] - 31s 37ms/step - loss: 0.0093 - accuracy: 0.9971 - val_loss: 0.0391 - val_accuracy: 0.9910\n",
            "Epoch 10/25\n",
            "844/844 [==============================] - 32s 37ms/step - loss: 0.0071 - accuracy: 0.9976 - val_loss: 0.0469 - val_accuracy: 0.9890\n",
            "Epoch 11/25\n",
            "844/844 [==============================] - 31s 37ms/step - loss: 0.0086 - accuracy: 0.9971 - val_loss: 0.0402 - val_accuracy: 0.9898\n",
            "Epoch 12/25\n",
            "844/844 [==============================] - 30s 36ms/step - loss: 0.0046 - accuracy: 0.9985 - val_loss: 0.0438 - val_accuracy: 0.9908\n",
            "Epoch 13/25\n",
            "844/844 [==============================] - 32s 37ms/step - loss: 0.0055 - accuracy: 0.9983 - val_loss: 0.0615 - val_accuracy: 0.9882\n",
            "Epoch 14/25\n",
            "844/844 [==============================] - 31s 37ms/step - loss: 0.0058 - accuracy: 0.9981 - val_loss: 0.0595 - val_accuracy: 0.9888\n",
            "Epoch 15/25\n",
            "844/844 [==============================] - 30s 36ms/step - loss: 0.0056 - accuracy: 0.9982 - val_loss: 0.0509 - val_accuracy: 0.9905\n",
            "Epoch 16/25\n",
            "844/844 [==============================] - 31s 37ms/step - loss: 0.0052 - accuracy: 0.9982 - val_loss: 0.0454 - val_accuracy: 0.9913\n",
            "Epoch 17/25\n",
            "844/844 [==============================] - 31s 37ms/step - loss: 0.0048 - accuracy: 0.9985 - val_loss: 0.0533 - val_accuracy: 0.9903\n",
            "Epoch 18/25\n",
            "844/844 [==============================] - 31s 36ms/step - loss: 0.0045 - accuracy: 0.9985 - val_loss: 0.0424 - val_accuracy: 0.9935\n",
            "Epoch 19/25\n",
            "844/844 [==============================] - 31s 37ms/step - loss: 0.0044 - accuracy: 0.9985 - val_loss: 0.0553 - val_accuracy: 0.9910\n",
            "Epoch 20/25\n",
            "844/844 [==============================] - 31s 37ms/step - loss: 0.0063 - accuracy: 0.9983 - val_loss: 0.0526 - val_accuracy: 0.9918\n",
            "Epoch 21/25\n",
            "844/844 [==============================] - 31s 36ms/step - loss: 0.0026 - accuracy: 0.9990 - val_loss: 0.0527 - val_accuracy: 0.9915\n",
            "Epoch 22/25\n",
            "844/844 [==============================] - 30s 36ms/step - loss: 0.0034 - accuracy: 0.9988 - val_loss: 0.0529 - val_accuracy: 0.9920\n",
            "Epoch 23/25\n",
            "844/844 [==============================] - 31s 37ms/step - loss: 0.0032 - accuracy: 0.9989 - val_loss: 0.0592 - val_accuracy: 0.9908\n",
            "Epoch 24/25\n",
            "844/844 [==============================] - 31s 37ms/step - loss: 0.0038 - accuracy: 0.9989 - val_loss: 0.0607 - val_accuracy: 0.9903\n",
            "Epoch 25/25\n",
            "844/844 [==============================] - 30s 36ms/step - loss: 0.0041 - accuracy: 0.9988 - val_loss: 0.0518 - val_accuracy: 0.9915\n",
            "313/313 [==============================] - 2s 8ms/step - loss: 0.0493 - accuracy: 0.9909\n",
            "Test accuracy of model with swish activation function: 0.9908999800682068\n"
          ]
        }
      ]
    },
    {
      "cell_type": "code",
      "source": [
        "for i in range(1,3):\n",
        "  print(models_list[i])\n",
        "  test_loss, test_acc = models_list[i].evaluate(test_images, test_labels)\n",
        "  print('Test accuracy:', test_acc)"
      ],
      "metadata": {
        "colab": {
          "base_uri": "https://localhost:8080/"
        },
        "id": "3G6MmZEcXhWW",
        "outputId": "e41780cb-9ac8-459d-ba9c-f30e79146c43"
      },
      "execution_count": null,
      "outputs": [
        {
          "output_type": "stream",
          "name": "stdout",
          "text": [
            "<keras.src.engine.sequential.Sequential object at 0x7b3014e09510>\n",
            "313/313 [==============================] - 3s 8ms/step - loss: 0.0651 - accuracy: 0.9911\n",
            "Test accuracy: 0.991100013256073\n",
            "<keras.src.engine.sequential.Sequential object at 0x7b3014e22290>\n",
            "313/313 [==============================] - 2s 7ms/step - loss: 0.0493 - accuracy: 0.9909\n",
            "Test accuracy: 0.9908999800682068\n"
          ]
        }
      ]
    }
  ]
}